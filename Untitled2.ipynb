{
  "metadata": {
    "kernelspec": {
      "name": "python",
      "display_name": "Python (Pyodide)",
      "language": "python"
    },
    "language_info": {
      "codemirror_mode": {
        "name": "python",
        "version": 3
      },
      "file_extension": ".py",
      "mimetype": "text/x-python",
      "name": "python",
      "nbconvert_exporter": "python",
      "pygments_lexer": "ipython3",
      "version": "3.8"
    }
  },
  "nbformat_minor": 4,
  "nbformat": 4,
  "cells": [
    {
      "cell_type": "code",
      "source": "import os\nimport pandas as pd\nfilename = ('tmdb_5000_movies.csv')\ndf = pd.read_csv(filename)\ndf.head()",
      "metadata": {
        "trusted": true
      },
      "outputs": [],
      "execution_count": null
    },
    {
      "cell_type": "code",
      "source": "df = df.reset_index()\ndf = df.drop('index',axis=1)\ndf.info()",
      "metadata": {
        "trusted": true
      },
      "outputs": [],
      "execution_count": null
    },
    {
      "cell_type": "code",
      "source": "def clean_text(name):\n    result = str(name).lower()\n    return(result.replace(' ',''))\n    df['title'] = df['title'].apply(clean_text)\n    df['title'] = df['title'].str.lower()\ndf.info()",
      "metadata": {
        "trusted": true
      },
      "outputs": [],
      "execution_count": null
    },
    {
      "cell_type": "code",
      "source": "df2 = df.drop(['original_language','budget','homepage','original_title','production_companies','vote_count','release_date','revenue','original_language','id','status'],axis=1)\ndf2['data'] = df2[df2.columns[1:]].apply(\n    lambda x: ' '.join(x.dropna().astype(str)),\n    axis=1\n)\nprint(df2.info())\n",
      "metadata": {
        "trusted": true
      },
      "outputs": [],
      "execution_count": null
    },
    {
      "cell_type": "code",
      "source": "from sklearn.feature_extraction.text import CountVectorizer\nfrom sklearn.metrics.pairwise import cosine_similarity\nvectorizer = CountVectorizer()\nvectorized = vectorizer.fit_transform(df2['data'])\nsimilarities = cosine_similarity(vectorized)\nprint(similarities)",
      "metadata": {
        "trusted": true
      },
      "outputs": [],
      "execution_count": null
    },
    {
      "cell_type": "code",
      "source": "df = pd.DataFrame(similarities, columns=df['title'], index=df['title']).reset_index()\ndf.head()",
      "metadata": {
        "trusted": true
      },
      "outputs": [],
      "execution_count": null
    },
    {
      "cell_type": "code",
      "source": "input_film = input(\"What film do you like (Correctly Capitalized)\")\nrecommendations = pd.DataFrame(df.nlargest(10,await input_film)['title'])\nrecommendations = recommendations[recommendations['title']!=await input_film]\nprint(await recommendations)",
      "metadata": {
        "trusted": true
      },
      "outputs": [],
      "execution_count": null
    },
    {
      "cell_type": "code",
      "source": "",
      "metadata": {
        "trusted": true
      },
      "outputs": [],
      "execution_count": null
    },
    {
      "cell_type": "code",
      "source": "",
      "metadata": {
        "trusted": true
      },
      "outputs": [],
      "execution_count": null
    },
    {
      "cell_type": "code",
      "source": "",
      "metadata": {
        "trusted": true
      },
      "outputs": [],
      "execution_count": null
    }
  ]
}